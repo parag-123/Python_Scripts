{
 "cells": [
  {
   "cell_type": "markdown",
   "metadata": {},
   "source": [
    "# SentiWordNet"
   ]
  },
  {
   "cell_type": "code",
   "execution_count": 1,
   "metadata": {
    "collapsed": true
   },
   "outputs": [],
   "source": [
    "#import sentiwordnet and wordnet\n",
    "from nltk.corpus import sentiwordnet as swn\n",
    "from nltk.corpus import wordnet as wn"
   ]
  },
  {
   "cell_type": "code",
   "execution_count": 2,
   "metadata": {
    "collapsed": false
   },
   "outputs": [
    {
     "name": "stdout",
     "output_type": "stream",
     "text": [
      "Printing synsets for all the synsets of the word 'horrible'\n",
      "sad.a.01\texperiencing or showing sorrow or unhappiness\n",
      "['feeling sad because his dog had died', 'Better by far that you should forget and smile / Than that you should remember and be sad\"- Christina Rossetti']\n",
      "\n",
      "\n",
      "sad.s.02\tof things that make you feel sad\n",
      "['sad news', \"she doesn't like sad movies\", 'it was a very sad story', 'When I am dead, my dearest, / Sing no sad songs for me\"- Christina Rossetti']\n",
      "\n",
      "\n",
      "deplorable.s.01\tbad; unfortunate\n",
      "['my finances were in a deplorable state', 'a lamentable decision', 'her clothes were in sad shape', 'a sorry state of affairs']\n",
      "\n",
      "\n"
     ]
    }
   ],
   "source": [
    "#All synsets for the word 'sad'\n",
    "\n",
    "example_syn = wn.synsets('sad')\n",
    "print(\"Printing synsets for all the synsets of the word 'horrible'\")\n",
    "for synset in example_syn:\n",
    "    print(synset.name() + \"\\t\" + synset.definition())\n",
    "    print(synset.examples())\n",
    "    print(\"\\n\")"
   ]
  },
  {
   "cell_type": "code",
   "execution_count": 3,
   "metadata": {
    "collapsed": false
   },
   "outputs": [
    {
     "name": "stdout",
     "output_type": "stream",
     "text": [
      "['sad']\n",
      "\n",
      "\n",
      "['sad']\n",
      "\n",
      "\n",
      "['deplorable', 'distressing', 'lamentable', 'pitiful', 'sad', 'sorry']\n"
     ]
    }
   ],
   "source": [
    "sad_synset = wn.synset('sad.a.01')\n",
    "print(sad_synset.lemma_names())\n",
    "print(\"\\n\")\n",
    "sad_synset = wn.synset('sad.s.02')\n",
    "print(sad_synset.lemma_names())\n",
    "print(\"\\n\")\n",
    "sad_synset = wn.synset('deplorable.s.01')\n",
    "print(sad_synset.lemma_names())\n"
   ]
  },
  {
   "cell_type": "code",
   "execution_count": 8,
   "metadata": {
    "collapsed": false
   },
   "outputs": [
    {
     "name": "stdout",
     "output_type": "stream",
     "text": [
      "Printing sentiment synsets for all the synsets of the word 'sad'\n",
      "\n",
      "sad.a.01\t0.125\t0.75\t0.125\n",
      "sad.s.02\t0.0\t0.25\t0.75\n",
      "deplorable.s.01\t0.0\t1.0\t0.0\n"
     ]
    }
   ],
   "source": [
    "#All entries for the word 'good' in the senti-wordnet\n",
    "\n",
    "example_senti_syn = swn.senti_synsets(\"sad\")\n",
    "print(\"Printing sentiment synsets for all the synsets of the word 'sad'\\n\")\n",
    "for senti_synset in example_senti_syn:\n",
    "    print(senti_synset.synset.name() + \"\\t\" + str(senti_synset.pos_score())  + \"\\t\" +  str(senti_synset.neg_score())\n",
    "         + \"\\t\" + str(senti_synset.obj_score()))"
   ]
  }
 ],
 "metadata": {
  "anaconda-cloud": {},
  "kernelspec": {
   "display_name": "Python 3",
   "language": "python",
   "name": "python3"
  },
  "language_info": {
   "codemirror_mode": {
    "name": "ipython",
    "version": 3
   },
   "file_extension": ".py",
   "mimetype": "text/x-python",
   "name": "python",
   "nbconvert_exporter": "python",
   "pygments_lexer": "ipython3",
   "version": "3.6.0"
  }
 },
 "nbformat": 4,
 "nbformat_minor": 2
}
