{
 "cells": [
  {
   "cell_type": "markdown",
   "metadata": {},
   "source": [
    "### Lexical knowledge network ####\n",
    "#### WordNet ####\n",
    "##### http://www.nltk.org/howto/wordnet.html #####"
   ]
  },
  {
   "cell_type": "code",
   "execution_count": 20,
   "metadata": {
    "collapsed": true
   },
   "outputs": [],
   "source": [
    "#load the wordnet\n",
    "from nltk.corpus import wordnet"
   ]
  },
  {
   "cell_type": "code",
   "execution_count": 21,
   "metadata": {
    "collapsed": false
   },
   "outputs": [
    {
     "name": "stdout",
     "output_type": "stream",
     "text": [
      "Finding all the synonym set (SynSet) of a word for all possible POS tags\n",
      "\n",
      "[Synset('bat.n.01'), Synset('bat.n.02'), Synset('squash_racket.n.01'), Synset('cricket_bat.n.01'), Synset('bat.n.05'), Synset('bat.v.01'), Synset('bat.v.02'), Synset('bat.v.03'), Synset('bat.v.04'), Synset('cream.v.02')]\n"
     ]
    }
   ],
   "source": [
    "#words can have multiple senses, let us look at all senses for the word 'bat'\n",
    "print(\"Finding all the synonym set (SynSet) of a word for all possible POS tags\\n\" )\n",
    "synsets = wordnet.synsets('bat')\n",
    "print(synsets)"
   ]
  },
  {
   "cell_type": "code",
   "execution_count": 22,
   "metadata": {
    "collapsed": false
   },
   "outputs": [
    {
     "name": "stdout",
     "output_type": "stream",
     "text": [
      "bat.n.01\tnocturnal mouselike mammal with forelimbs modified to form membranous wings and anatomical adaptations for echolocation by which they navigate\n",
      "[]\n",
      "\n",
      "\n",
      "bat.n.02\t(baseball) a turn trying to get a hit\n",
      "['he was at bat when it happened', 'he got four hits in four at-bats']\n",
      "\n",
      "\n",
      "squash_racket.n.01\ta small racket with a long handle used for playing squash\n",
      "[]\n",
      "\n",
      "\n",
      "cricket_bat.n.01\tthe club used in playing cricket\n",
      "['a cricket bat has a narrow handle and a broad flat end for hitting']\n",
      "\n",
      "\n",
      "bat.n.05\ta club used for hitting a ball in various games\n",
      "[]\n",
      "\n",
      "\n",
      "bat.v.01\tstrike with, or as if with a baseball bat\n",
      "['bat the ball']\n",
      "\n",
      "\n",
      "bat.v.02\twink briefly\n",
      "[\"bat one's eyelids\"]\n",
      "\n",
      "\n",
      "bat.v.03\thave a turn at bat\n",
      "['Jones bats first, followed by Martinez']\n",
      "\n",
      "\n",
      "bat.v.04\tuse a bat\n",
      "[\"Who's batting?\"]\n",
      "\n",
      "\n",
      "cream.v.02\tbeat thoroughly and conclusively in a competition or fight\n",
      "['We licked the other team on Sunday!']\n",
      "\n",
      "\n"
     ]
    }
   ],
   "source": [
    "for every_sense in synsets:\n",
    "    print(every_sense.name() + \"\\t\" + every_sense.definition())\n",
    "    print(every_sense.examples())\n",
    "    print(\"\\n\")"
   ]
  },
  {
   "cell_type": "code",
   "execution_count": 23,
   "metadata": {
    "collapsed": false
   },
   "outputs": [
    {
     "name": "stdout",
     "output_type": "stream",
     "text": [
      "Finding the synset if POS tag is known and number of senses\n",
      "Printing the definition(gloss) for the word 'bat' \n",
      "\n",
      "nocturnal mouselike mammal with forelimbs modified to form membranous wings and anatomical adaptations for echolocation by which they navigate\n"
     ]
    }
   ],
   "source": [
    "#if we know the synset id of a word, then we can get it's corresponding definition and gloss\n",
    "print(\"Finding the synset if POS tag is known and number of senses\")\n",
    "synset = wordnet.synset('bat.n.01')\n",
    "print(\"Printing the definition(gloss) for the word 'bat' \\n\")\n",
    "print(synset.definition())"
   ]
  },
  {
   "cell_type": "code",
   "execution_count": 25,
   "metadata": {
    "collapsed": false
   },
   "outputs": [
    {
     "name": "stdout",
     "output_type": "stream",
     "text": [
      "find the hypernym of a synset\n",
      "[Synset('cricket_equipment.n.01')]\n"
     ]
    }
   ],
   "source": [
    "#find all the hypernyms for the word 'bat'\n",
    "# find all parent nodes of the node bat\n",
    "print(\"find the hypernym of a synset\")\n",
    "bat = wordnet.synset('bat.n.04')\n",
    "print(bat.hypernyms())"
   ]
  },
  {
   "cell_type": "code",
   "execution_count": 34,
   "metadata": {
    "collapsed": false
   },
   "outputs": [
    {
     "name": "stdout",
     "output_type": "stream",
     "text": [
      "find the hyponyms of a synset\n",
      "\n",
      "[Synset('cricket_ball.n.01'), Synset('cricket_bat.n.01'), Synset('wicket.n.01')]\n"
     ]
    }
   ],
   "source": [
    "#find all the hyponyms for the word 'cricket_equipment'\n",
    "# find all child nodes of the node cricket_equipment\n",
    "cricket = wordnet.synset('cricket_equipment.n.01')\n",
    "print(\"find the hyponyms of a synset\\n\")\n",
    "print(cricket.hyponyms())"
   ]
  },
  {
   "cell_type": "code",
   "execution_count": 37,
   "metadata": {
    "collapsed": false
   },
   "outputs": [
    {
     "name": "stdout",
     "output_type": "stream",
     "text": [
      "[Synset('equipment.n.01')]\n"
     ]
    }
   ],
   "source": [
    "#Find commmon hypernyms between two words\n",
    "\n",
    "man = wordnet.synset('bat.n.04')\n",
    "tree = wordnet.synset('ball.n.01')\n",
    "print(man.lowest_common_hypernyms(tree))"
   ]
  },
  {
   "cell_type": "code",
   "execution_count": 38,
   "metadata": {
    "collapsed": true
   },
   "outputs": [],
   "source": [
    "#Finding similarities between words\n",
    "\n",
    "dog = wordnet.synset('dog.n.01')\n",
    "cat = wordnet.synset('cat.n.01')\n",
    "tree = wordnet.synset('tree.n.01')"
   ]
  },
  {
   "cell_type": "code",
   "execution_count": 39,
   "metadata": {
    "collapsed": false
   },
   "outputs": [
    {
     "name": "stdout",
     "output_type": "stream",
     "text": [
      "0.2\n",
      "0.125\n",
      "0.07692307692307693\n"
     ]
    }
   ],
   "source": [
    "#Path similarity:Return a score denoting how similar two word senses are, \n",
    "#based on the shortest path that connects the \n",
    "#senses in the is-a (hypernym/hypnoym) taxonomy. The score is in the range 0 to 1\n",
    "\n",
    "print(wordnet.path_similarity(dog,cat))\n",
    "print(wordnet.path_similarity(dog,tree))\n",
    "print(wordnet.path_similarity(cat,tree))"
   ]
  },
  {
   "cell_type": "code",
   "execution_count": 40,
   "metadata": {
    "collapsed": false
   },
   "outputs": [
    {
     "name": "stdout",
     "output_type": "stream",
     "text": [
      "2.0281482472922856\n",
      "1.55814461804655\n",
      "1.072636802264849\n"
     ]
    }
   ],
   "source": [
    "#Leacock-Chodorow Similarity: Return a score denoting how similar two word senses are, \n",
    "# based on the shortest path that connects the senses (as above) and the maximum depth \n",
    "# of the taxonomy in which the senses occur\n",
    "\n",
    "print(wordnet.lch_similarity(dog,cat))\n",
    "print(wordnet.lch_similarity(dog,tree))\n",
    "print(wordnet.lch_similarity(cat,tree))"
   ]
  },
  {
   "cell_type": "code",
   "execution_count": 20,
   "metadata": {
    "collapsed": false
   },
   "outputs": [
    {
     "name": "stdout",
     "output_type": "stream",
     "text": [
      "0.5\n",
      "0.631578947368421\n",
      "0.8571428571428571\n"
     ]
    }
   ],
   "source": [
    "# Wu-Palmer Similarity: Return a score denoting how similar two word senses are, based on the depth of the\n",
    "# two senses in the taxonomy and that of their Least Common Subsumer (most specific ancestor node).\n",
    "\n",
    "print(wordnet.wup_similarity(cat, tree))\n",
    "print(wordnet.wup_similarity(dog,tree))\n",
    "print(wordnet.wup_similarity(dog,cat))"
   ]
  }
 ],
 "metadata": {
  "anaconda-cloud": {},
  "kernelspec": {
   "display_name": "Python 3",
   "language": "python",
   "name": "python3"
  },
  "language_info": {
   "codemirror_mode": {
    "name": "ipython",
    "version": 3
   },
   "file_extension": ".py",
   "mimetype": "text/x-python",
   "name": "python",
   "nbconvert_exporter": "python",
   "pygments_lexer": "ipython3",
   "version": "3.6.0"
  }
 },
 "nbformat": 4,
 "nbformat_minor": 1
}
